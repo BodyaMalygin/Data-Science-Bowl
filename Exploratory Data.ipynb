{
 "cells": [
  {
   "cell_type": "code",
   "execution_count": null,
   "metadata": {},
   "outputs": [],
   "source": [
    "import os\n",
    "import sys\n",
    "import random\n",
    "import warnings\n",
    "\n",
    "import numpy as np\n",
    "import pandas as pd\n",
    "import matplotlib.pyplot as plt\n",
    "import seaborn as sns\n",
    "sns.set(color_codes=True)\n",
    "\n",
    "from tqdm import tqdm\n",
    "from skimage.io import imread, imshow\n",
    "from skimage.transform import resize\n",
    "\n",
    "from sklearn.cluster import KMeans\n",
    "\n",
    "from keras.models import Model, load_model\n",
    "from keras.layers import Input\n",
    "from keras.layers.core import Dropout, Lambda\n",
    "from keras.layers.convolutional import Conv2D, Conv2DTranspose\n",
    "from keras.layers.pooling import MaxPooling2D\n",
    "from keras.layers.merge import concatenate\n",
    "from keras.callbacks import EarlyStopping, ModelCheckpoint\n",
    "from keras import backend as K\n",
    "\n",
    "import tensorflow as tf\n",
    "\n",
    "TRAIN_PATH = 'data-science-bowl-2018/stage1_train/'\n",
    "TEST_PATH = 'data-science-bowl-2018/stage1_test/'\n",
    "\n",
    "warnings.filterwarnings('ignore', category=UserWarning, module='skimage')\n",
    "seed = 30\n",
    "random.seed = seed\n",
    "np.random.seed = seed\n",
    "\n",
    "\n",
    "# Get train and test IDs\n",
    "train_ids = next(os.walk(TRAIN_PATH))[1]\n",
    "test_ids = next(os.walk(TEST_PATH))[1]\n",
    "%matplotlib inline"
   ]
  },
  {
   "cell_type": "code",
   "execution_count": null,
   "metadata": {},
   "outputs": [],
   "source": [
    "train_img = []\n",
    "train_masks = []\n",
    "\n",
    "train_img_data = []\n",
    "train_mask_data = []\n",
    "\n",
    "test_img = []\n",
    "test_img_data = []\n",
    "\n",
    "print(\"Reading train images and masks and getting their metadata\")\n",
    "sys.stdout.flush()\n",
    "for n, id_ in tqdm(enumerate(train_ids), total=len(train_ids)):\n",
    "    path = TRAIN_PATH + id_\n",
    "    img = imread('{}/images/{}.png'.format(path, id_))\n",
    "    \n",
    "    train_img.append(img)\n",
    "    img_height = img.shape[0]\n",
    "    img_width = img.shape[1]\n",
    "    \n",
    "    nucleus_count = 0\n",
    "    \n",
    "    for mask_file in next(os.walk('{}/masks/'.format(path)))[2]:\n",
    "        mask = imread('{}/masks/{}'.format(path, mask_file))\n",
    "        train_masks.append(mask)\n",
    "        mask_height, mask_width = mask.shape\n",
    "        \n",
    "        nucleus_area = (np.sum(mask) / 255)\n",
    "        \n",
    "        mask_to_img_ratio = nucleus_area / (mask_height * mask_width)\n",
    "        \n",
    "        train_mask_data.append([n,mask_height, mask_width, mask_to_img_ratio])\n",
    "        \n",
    "        nucleus_count += 1\n",
    "        \n",
    "    train_img_data.append([id_, img_height, img_width, nucleus_count])\n",
    "\n",
    "print(\"Reading test images and getting metadata\")\n",
    "sys.stdout.flush()\n",
    "for n, id_ in tqdm(enumerate(test_ids), total=len(test_ids)):\n",
    "    path = TEST_PATH + id_\n",
    "    img = imread('{}/images/{}.png'.format(path, id_))\n",
    "\n",
    "    test_img.append(img)\n",
    "    img_height = img.shape[0]\n",
    "    img_width = img.shape[1]\n",
    "    \n",
    "    test_img_data.append([id_, img_height, img_width])"
   ]
  },
  {
   "cell_type": "code",
   "execution_count": null,
   "metadata": {},
   "outputs": [],
   "source": [
    "df_train_img = pd.DataFrame(train_img_data, columns=['id', 'height', 'width', 'nuclei'])\n",
    "df_train_img.head()"
   ]
  },
  {
   "cell_type": "code",
   "execution_count": null,
   "metadata": {},
   "outputs": [],
   "source": [
    "df_train_img.describe(include=[np.number])"
   ]
  },
  {
   "cell_type": "code",
   "execution_count": null,
   "metadata": {},
   "outputs": [],
   "source": [
    "df_train_mask = pd.DataFrame(train_mask_data, \n",
    "                             columns=['img_index', 'height', 'width', \n",
    "                                      'mask_to_img_ratio'])\n",
    "df_train_mask.describe()"
   ]
  },
  {
   "cell_type": "code",
   "execution_count": null,
   "metadata": {},
   "outputs": [],
   "source": [
    "df_train_mask.head()"
   ]
  },
  {
   "cell_type": "code",
   "execution_count": null,
   "metadata": {},
   "outputs": [],
   "source": [
    "df_test_img = pd.DataFrame(test_img_data, \n",
    "                           columns=['id', 'height', 'width'])\n",
    "df_test_img.head()"
   ]
  },
  {
   "cell_type": "code",
   "execution_count": null,
   "metadata": {},
   "outputs": [],
   "source": [
    "df_test_img.describe(include=[np.number])"
   ]
  },
  {
   "cell_type": "code",
   "execution_count": null,
   "metadata": {},
   "outputs": [],
   "source": [
    "fig, ax = plt.subplots(1, 2, figsize=(10,5))\n",
    "width_plt = sns.distplot(df_train_img['width'].values, ax=ax[0])\n",
    "width_plt.set(xlabel='width (px)')\n",
    "width_plt.set(ylim=(0, 0.01))\n",
    "height_plt = sns.distplot(df_train_img['height'].values, ax=ax[1])\n",
    "height_plt.set(xlabel='height (px)')\n",
    "height_plt.set(ylim=(0, 0.015))\n",
    "plt.tight_layout();"
   ]
  },
  {
   "cell_type": "code",
   "execution_count": null,
   "metadata": {},
   "outputs": [],
   "source": [
    "sns.distplot(df_train_img['nuclei'].values)\n",
    "plt.xlabel(\"nuclei\")\n",
    "plt.show();"
   ]
  },
  {
   "cell_type": "code",
   "execution_count": null,
   "metadata": {},
   "outputs": [],
   "source": [
    "plt.figure(figsize=(18, 18))\n",
    "much_nuclei = df_train_img['nuclei'].argmax()\n",
    "print(df_train_img['nuclei'][much_nuclei])\n",
    "plt.grid(None)\n",
    "plt.imshow(train_img[much_nuclei]);"
   ]
  },
  {
   "cell_type": "code",
   "execution_count": null,
   "metadata": {},
   "outputs": [],
   "source": [
    "plt.figure(figsize=(18, 18))\n",
    "not_much_nuclei = df_train_img['nuclei'].argmin()\n",
    "print(df_train_img['nuclei'][not_much_nuclei])\n",
    "plt.grid(None)\n",
    "plt.imshow(train_img[not_much_nuclei]);\n"
   ]
  },
  {
   "cell_type": "code",
   "execution_count": null,
   "metadata": {},
   "outputs": [],
   "source": [
    "smallest_mask_index = df_train_mask['mask_to_img_ratio'].argmin()\n",
    "\n",
    "fig, ax = plt.subplots(1, 2, figsize=(16, 16))\n",
    "ax[0].grid(None)\n",
    "ax[0].imshow(train_masks[smallest_mask_index])\n",
    "ax[1].grid(None)\n",
    "ax[1].imshow(train_img[df_train_mask.iloc[[smallest_mask_index], [0]].values[0][0]])\n",
    "plt.tight_layout();"
   ]
  },
  {
   "cell_type": "code",
   "execution_count": null,
   "metadata": {},
   "outputs": [],
   "source": [
    "smallest_mask_resized_128 = resize(train_masks[smallest_mask_index], (128, 128))\n",
    "smallest_mask_resized_256 = resize(train_masks[smallest_mask_index], (256, 256))\n",
    "smallest_mask_resized_512 = resize(train_masks[smallest_mask_index], (512, 512))\n",
    "print(np.sum(smallest_mask_resized_128))\n",
    "print(np.sum(smallest_mask_resized_256))\n",
    "print(np.sum(smallest_mask_resized_512))\n",
    "fig, ax = plt.subplots(1, 3, figsize=(14, 14))\n",
    "ax[0].grid(None)\n",
    "ax[1].grid(None)\n",
    "ax[2].grid(None)\n",
    "ax[0].imshow(smallest_mask_resized_128)\n",
    "ax[1].imshow(smallest_mask_resized_256)\n",
    "ax[2].imshow(smallest_mask_resized_512);"
   ]
  },
  {
   "cell_type": "code",
   "execution_count": null,
   "metadata": {},
   "outputs": [],
   "source": [
    "biggest_mask_index = df_train_mask['mask_to_img_ratio'].argmax()\n",
    "biggest_mask_img_index = df_train_mask.iloc[[biggest_mask_index], [0]].values[0][0]\n",
    "\n",
    "fig, ax = plt.subplots(1, 2, figsize=(12, 12))\n",
    "ax[0].grid(None)\n",
    "ax[1].grid(None)\n",
    "ax[0].imshow(train_masks[biggest_mask_index])\n",
    "ax[1].imshow(train_img[biggest_mask_img_index])\n",
    "plt.tight_layout()"
   ]
  },
  {
   "cell_type": "code",
   "execution_count": null,
   "metadata": {},
   "outputs": [],
   "source": [
    "big_nuclei = df_train_mask.index[df_train_mask['img_index'] == biggest_mask_img_index]\n",
    "plt.figure(figsize=(18, 18))\n",
    "for i, mask_id in enumerate(big_nuclei):\n",
    "    plt.grid(None)\n",
    "    plt.imshow(train_masks[mask_id], interpolation='none', alpha=0.1)"
   ]
  },
  {
   "cell_type": "code",
   "execution_count": null,
   "metadata": {},
   "outputs": [],
   "source": [
    "sample_nuclei = df_train_img.sample(20).index\n",
    "fig, ax = plt.subplots(5, 4, figsize=(16, 16))\n",
    "row = 0\n",
    "col = 0\n",
    "for i, img_id in enumerate(sample_nuclei):\n",
    "    ax[row, col].grid(False)\n",
    "    ax[row, col].imshow(train_img[img_id])\n",
    "    \n",
    "    # Increment col index and reset each time\n",
    "    # it gets to 4 to start a new row\n",
    "    col = col + 1\n",
    "    if(col == 4):\n",
    "        col = 0\n",
    "    \n",
    "    # Increment row index every 4 items\n",
    "    if((i + 1) % 4 == 0):\n",
    "        row = row + 1\n",
    "plt.tight_layout()"
   ]
  },
  {
   "cell_type": "code",
   "execution_count": null,
   "metadata": {},
   "outputs": [],
   "source": [
    "def get_color_state1(imgs):\n",
    "    color_state = []\n",
    "    for img in imgs:\n",
    "        g = np.mean(img[:,:,0])\n",
    "        grm = np.mean(img[:,:,1]-img[:,:,0])\n",
    "        grs = np.std(img[:,:,1]-img[:,:,0])\n",
    "        color_state.append([g,grm, grs])\n",
    "    return color_state    "
   ]
  },
  {
   "cell_type": "code",
   "execution_count": null,
   "metadata": {},
   "outputs": [],
   "source": [
    "train_cs1 = get_color_state1(train_img)\n",
    "test_cs1 = get_color_state1(test_img)"
   ]
  },
  {
   "cell_type": "code",
   "execution_count": null,
   "metadata": {},
   "outputs": [],
   "source": [
    "X_tr = train_cs1\n",
    "X_te = test_cs1\n",
    "\n",
    "kmeans = KMeans(n_clusters=4).fit(X_tr)\n",
    "train_cl1 = np.argmin(kmeans.transform(X_tr), -1)\n",
    "test_cl1 = np.argmin(kmeans.transform(X_te), -1)"
   ]
  },
  {
   "cell_type": "code",
   "execution_count": null,
   "metadata": {},
   "outputs": [],
   "source": [
    "def visualizer(imgs, n=4, figsize=(16,16), title=''):\n",
    "    fig = plt.figure(figsize=figsize)\n",
    "\n",
    "    n_samples = list(range(len(imgs)))\n",
    "\n",
    "    for i in range(int(n**2)):\n",
    "        try:\n",
    "            rsample = random.choice(n_samples)\n",
    "            n_samples.remove(rsample)\n",
    "            img = imgs[rsample]\n",
    "            ax = fig.add_subplot(n,n,i+1)\n",
    "            ax.imshow(img)\n",
    "            ax.axis('off')\n",
    "        except IndexError:\n",
    "            pass\n",
    "    fig.suptitle(title)"
   ]
  },
  {
   "cell_type": "code",
   "execution_count": null,
   "metadata": {},
   "outputs": [],
   "source": [
    "for j in range(4):\n",
    "    train_img_cl = []\n",
    "    for i in range(len(train_cl1)):\n",
    "        if train_cl1[i]==j:\n",
    "            train_img_cl.append(train_img[i])\n",
    "    visualizer(train_img_cl, title='Cluster '+str(j))"
   ]
  },
  {
   "cell_type": "code",
   "execution_count": null,
   "metadata": {},
   "outputs": [],
   "source": [
    "for j in range(4):\n",
    "    test_img_cl = []\n",
    "    for i in range(len(test_cl1)):\n",
    "        if test_cl1[i]==j:\n",
    "            test_img_cl.append(test_img[i])\n",
    "    visualizer(test_img_cl, title='Cluster '+str(j))"
   ]
  },
  {
   "cell_type": "code",
   "execution_count": null,
   "metadata": {},
   "outputs": [],
   "source": [
    "IMG_WIDTH = 128\n",
    "IMG_HEIGHT = 128\n",
    "IMG_CHANNELS = 3"
   ]
  },
  {
   "cell_type": "code",
   "execution_count": null,
   "metadata": {},
   "outputs": [],
   "source": [
    "X_train = np.zeros((len(train_img), IMG_HEIGHT, IMG_WIDTH, IMG_CHANNELS), dtype=np.uint8)\n",
    "Y_train = np.zeros((len(train_img), IMG_HEIGHT, IMG_WIDTH, 1), dtype=np.bool)\n",
    "sys.stdout.flush()\n",
    "for n in tqdm(range(len(train_img)), total=670):\n",
    "    img = train_img[n][:, :, :IMG_CHANNELS]\n",
    "    X_train[n] = resize(img, (IMG_HEIGHT, IMG_WIDTH), mode='constant', preserve_range=True)\n",
    "    mask = np.zeros((IMG_HEIGHT, IMG_WIDTH, 1), dtype=np.bool)\n",
    "    masks = df_train_mask[df_train_mask['img_index'] == n].index.values\n",
    "    for mask_num in masks:\n",
    "        mask_ = np.expand_dims(resize(train_masks[mask_num], \n",
    "                                      (IMG_HEIGHT, IMG_WIDTH), mode='constant', \n",
    "                                      preserve_range=True), axis=-1)\n",
    "        mask = np.maximum(mask, mask_)\n",
    "    Y_train[n] = mask"
   ]
  },
  {
   "cell_type": "code",
   "execution_count": null,
   "metadata": {},
   "outputs": [],
   "source": [
    "ix = random.randint(0, len(train_img))\n",
    "imshow(X_train[ix])\n",
    "plt.grid(None)\n",
    "plt.show()\n",
    "imshow(np.squeeze(Y_train[ix]))\n",
    "plt.grid(None)\n",
    "plt.show()"
   ]
  },
  {
   "cell_type": "code",
   "execution_count": null,
   "metadata": {},
   "outputs": [],
   "source": [
    "X_test = np.zeros((len(test_img), IMG_HEIGHT, IMG_WIDTH, IMG_CHANNELS), dtype=np.uint8)\n",
    "sys.stdout.flush()\n",
    "for n in tqdm(range(len(test_img)), total=65):\n",
    "    img = test_img[n][:, :, :IMG_CHANNELS]\n",
    "    X_test[n] = resize(img, (IMG_HEIGHT, IMG_WIDTH), mode='constant', preserve_range=True)"
   ]
  },
  {
   "cell_type": "code",
   "execution_count": null,
   "metadata": {},
   "outputs": [],
   "source": [
    "ix = random.randint(0, len(test_img))\n",
    "imshow(X_test[ix])\n",
    "plt.grid(None)\n",
    "plt.show();"
   ]
  },
  {
   "cell_type": "code",
   "execution_count": null,
   "metadata": {},
   "outputs": [],
   "source": [
    "smooth = 1.\n",
    "def dice_coef(y_true, y_pred):\n",
    "    y_true_f = K.flatten(y_true)\n",
    "    y_pred_f = K.flatten(y_pred)\n",
    "    intersection = K.sum(y_true_f * y_pred_f)\n",
    "    return (2. * intersection + smooth) / (K.sum(y_true_f) + K.sum(y_pred_f) + smooth)"
   ]
  },
  {
   "cell_type": "code",
   "execution_count": null,
   "metadata": {},
   "outputs": [],
   "source": [
    "size_train_set = len(train_ids)\n",
    "train_images = []\n",
    "train_masks = []\n",
    "\n",
    "print('Reading train images and masks:')\n",
    "sys.stdout.flush()\n",
    "for n, id_ in tqdm(enumerate(train_ids), total=size_train_set):\n",
    "    path = TRAIN_PATH + id_\n",
    "    img = imread('{}/images/{}.png'.format(path, id_))\n",
    "    train_images.append(img)\n",
    "    \n",
    "    path_to_masks = '{}/masks/'.format(path)\n",
    "    for mask_file in next(os.walk(path_to_masks))[2]:\n",
    "        mask = imread(path_to_masks + mask_file)\n",
    "        train_masks.append(mask)"
   ]
  }
 ],
 "metadata": {
  "kernelspec": {
   "display_name": "Python 3",
   "language": "python",
   "name": "python3"
  },
  "language_info": {
   "codemirror_mode": {
    "name": "ipython",
    "version": 3
   },
   "file_extension": ".py",
   "mimetype": "text/x-python",
   "name": "python",
   "nbconvert_exporter": "python",
   "pygments_lexer": "ipython3",
   "version": "3.8.6"
  }
 },
 "nbformat": 4,
 "nbformat_minor": 4
}
